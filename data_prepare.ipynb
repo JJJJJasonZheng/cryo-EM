{
 "cells": [
  {
   "cell_type": "code",
   "execution_count": 3,
   "metadata": {},
   "outputs": [],
   "source": [
    "from sklearn.cluster import KMeans\n",
    "from sklearn.manifold import TSNE\n",
    "from sklearn.decomposition import PCA\n",
    "import matplotlib.pyplot as plt\n",
    "import torch\n",
    "import torchvision.models as models\n",
    "import torch.nn as nn\n",
    "import numpy as np\n",
    "from torch.utils.data import Dataset\n",
    "import random\n",
    "from PIL import Image\n",
    "import linecache\n",
    "import torchvision.transforms as transforms\n",
    "from torch.utils.data import DataLoader\n",
    "import h5py"
   ]
  },
  {
   "cell_type": "code",
   "execution_count": 4,
   "metadata": {},
   "outputs": [],
   "source": [
    "# 孪生网络提取特征的Dataset\n",
    "class Eval_Dataset(Dataset):\n",
    "\n",
    "    def __init__(self, txt, transform=None, initial=False):\n",
    "        self.transform = transform\n",
    "        self.txt = txt\n",
    "        self.initial = initial\n",
    "\n",
    "    def __getitem__(self, index):\n",
    "        line = linecache.getline(self.txt, index+1).strip('\\n')\n",
    "        img = Image.open(line)\n",
    "\n",
    "        if not self.initial:\n",
    "            img = img.convert(\"L\")\n",
    "\n",
    "        if self.transform is not None:\n",
    "            img = self.transform(img)\n",
    "        \n",
    "        return img\n",
    "\n",
    "    def __len__(self):\n",
    "        with open(self.txt, 'r') as f:\n",
    "            num = len(f.readlines())\n",
    "        return num  "
   ]
  },
  {
   "cell_type": "code",
   "execution_count": 121,
   "metadata": {},
   "outputs": [],
   "source": [
    "# 生成图像路径txt文件\n",
    "def generate_img_txt(root):\n",
    "    f = open('./images.txt','w')\n",
    "    for i in range(3):\n",
    "        for j in range(900):\n",
    "            if j < 9:\n",
    "                img_path = root+str(i)+'/images00000'+str(j+1)+'.jpg'\n",
    "            elif j < 99:\n",
    "                img_path = root+str(i)+'/images0000'+str(j+1)+'.jpg'\n",
    "            else:\n",
    "                img_path = root+str(i)+'/images000'+str(j+1)+'.jpg'\n",
    "            f.write(img_path+'\\n')\n",
    "    f.close()\n",
    "\n",
    "# 降维加聚类\n",
    "def feature2label(features, dim_reduction='pca'):\n",
    "    if dim_reduction == 'tsne':\n",
    "        tsne = TSNE(n_components=2)\n",
    "        X = tsne.fit_transform(features)\n",
    "    else:\n",
    "        pca = PCA(n_components=2)\n",
    "        X = pca.fit_transform(features)\n",
    "    label = KMeans(5).fit_predict(features)\n",
    "    return X,label\n",
    "\n",
    "# 预训练模型提取特征\n",
    "def pretrain(dataloader):\n",
    "    pre_model = models.resnet18(pretrained=True).to(device)\n",
    "    result = []\n",
    "    for img in dataloader:\n",
    "        pre_model.fc = nn.ReLU()\n",
    "        pre_model.eval()\n",
    "        with torch.no_grad():\n",
    "            img = img.to(device)\n",
    "            feature = pre_model(img).data.cpu().numpy().squeeze()\n",
    "            result.append(feature)\n",
    "    return result"
   ]
  },
  {
   "cell_type": "code",
   "execution_count": 58,
   "metadata": {},
   "outputs": [],
   "source": [
    "def pre_work():\n",
    "    init_dataset = Eval_Dataset('images.txt',transforms.ToTensor(),initial=True)\n",
    "    init_dataloader = DataLoader(init_dataset)\n",
    "\n",
    "    init_feature = pretrain(init_dataloader)\n",
    "    init_labellist = feature2label(init_feature)\n",
    "    return init_labellist[1]"
   ]
  },
  {
   "cell_type": "code",
   "execution_count": 125,
   "metadata": {},
   "outputs": [],
   "source": [
    "generate_img_txt(root='./5gjq_snr_0_1_2_new/')"
   ]
  },
  {
   "cell_type": "code",
   "execution_count": 127,
   "metadata": {},
   "outputs": [],
   "source": [
    "init_dataset = Eval_Dataset('./images.txt',transforms.ToTensor(),initial=True)\n",
    "init_dataloader = DataLoader(init_dataset)"
   ]
  },
  {
   "cell_type": "code",
   "execution_count": 126,
   "metadata": {},
   "outputs": [],
   "source": [
    "temp = []\n",
    "for img in init_dataloader:\n",
    "    x = np.reshape(img.numpy(), (1,-1))\n",
    "    temp.append(x.squeeze())"
   ]
  },
  {
   "cell_type": "code",
   "execution_count": 101,
   "metadata": {},
   "outputs": [
    {
     "data": {
      "text/plain": [
       "array([0.45490196, 0.4509804 , 0.32941177, ..., 0.7137255 , 0.43529412,\n",
       "       0.44705883], dtype=float32)"
      ]
     },
     "execution_count": 101,
     "metadata": {},
     "output_type": "execute_result"
    }
   ],
   "source": [
    "(temp[0])"
   ]
  },
  {
   "cell_type": "code",
   "execution_count": 91,
   "metadata": {},
   "outputs": [],
   "source": [
    "label = KMeans(3).fit_predict(temp)"
   ]
  },
  {
   "cell_type": "code",
   "execution_count": 29,
   "metadata": {},
   "outputs": [],
   "source": [
    "label_true = []\n",
    "for i in range(3):\n",
    "    for j in range(900):\n",
    "        label_true.append(i)"
   ]
  },
  {
   "cell_type": "code",
   "execution_count": 24,
   "metadata": {},
   "outputs": [],
   "source": [
    "f = h5py.File('./5k0y_snr_0_1_2_new.h5','r')"
   ]
  },
  {
   "cell_type": "code",
   "execution_count": 25,
   "metadata": {},
   "outputs": [],
   "source": [
    "temp = []\n",
    "for img in f['X']:\n",
    "    x = np.reshape(img, (1,-1))\n",
    "    temp.append(x.squeeze())"
   ]
  },
  {
   "cell_type": "code",
   "execution_count": 26,
   "metadata": {},
   "outputs": [
    {
     "data": {
      "text/plain": [
       "array([1, 1, 1, ..., 2, 0, 0], dtype=int32)"
      ]
     },
     "execution_count": 26,
     "metadata": {},
     "output_type": "execute_result"
    }
   ],
   "source": [
    "label = KMeans(3).fit_predict(temp)\n",
    "label"
   ]
  },
  {
   "cell_type": "code",
   "execution_count": 27,
   "metadata": {},
   "outputs": [],
   "source": [
    "if 4 in label:\n",
    "    print('1')"
   ]
  },
  {
   "cell_type": "code",
   "execution_count": 30,
   "metadata": {},
   "outputs": [
    {
     "data": {
      "text/plain": [
       "0.3382663931639901"
      ]
     },
     "execution_count": 30,
     "metadata": {},
     "output_type": "execute_result"
    }
   ],
   "source": [
    "from sklearn.metrics.cluster import v_measure_score\n",
    "v_measure_score(label_true, label)"
   ]
  },
  {
   "cell_type": "code",
   "execution_count": 31,
   "metadata": {},
   "outputs": [],
   "source": [
    "label_0 = []\n",
    "label_1 = []\n",
    "label_2 = []\n",
    "for i in range(len(f['X'])):\n",
    "    if label[i] == 0:\n",
    "        label_0.append(i)\n",
    "    elif label[i] == 1:\n",
    "        label_1.append(i)\n",
    "    else:\n",
    "        label_2.append(i)"
   ]
  },
  {
   "cell_type": "code",
   "execution_count": 32,
   "metadata": {},
   "outputs": [],
   "source": [
    "f = h5py.File('./5k0y_kmeans_label.h5', 'w')\n",
    "f.create_dataset('0', data=label_0)\n",
    "f.create_dataset('1', data=label_1)\n",
    "f.create_dataset('2', data=label_2)\n",
    "f.close()"
   ]
  },
  {
   "cell_type": "code",
   "execution_count": null,
   "metadata": {},
   "outputs": [],
   "source": []
  }
 ],
 "metadata": {
  "kernelspec": {
   "display_name": "Python 3",
   "language": "python",
   "name": "python3"
  },
  "language_info": {
   "codemirror_mode": {
    "name": "ipython",
    "version": 3
   },
   "file_extension": ".py",
   "mimetype": "text/x-python",
   "name": "python",
   "nbconvert_exporter": "python",
   "pygments_lexer": "ipython3",
   "version": "3.6.5"
  }
 },
 "nbformat": 4,
 "nbformat_minor": 2
}
